{
 "cells": [
  {
   "cell_type": "code",
   "execution_count": 15,
   "id": "aa62e304-c463-45c5-9d6d-35430c071e3b",
   "metadata": {},
   "outputs": [],
   "source": [
    "import tkinter as tk\n",
    "import requests\n",
    "import time\n",
    "from tkinter import messagebox"
   ]
  },
  {
   "cell_type": "code",
   "execution_count": 17,
   "id": "a6218dd9-0d42-47e4-bc65-cb3fba7f6edd",
   "metadata": {},
   "outputs": [],
   "source": [
    "key = '25bebaec1410b2b192a5e523c5e49d07'\n",
    "\n",
    "def get_coordinates(city):\n",
    "    geocoding =  f'http://api.openweathermap.org/geo/1.0/direct?q={city}&limit=1&appid={key}'\n",
    "    response = requests.get(geocoding)\n",
    "    data = response.json()\n",
    "\n",
    "    if response.status_code == 200 and data:\n",
    "        latitude = data[0]['lat']\n",
    "        longitude = data[0]['lon']\n",
    "        return latitude, longitude\n",
    "    else:\n",
    "        messagebox.showerror(\"Error\", f\"Could not find coordinates for {city}\")\n",
    "        return None\n",
    "    "
   ]
  },
  {
   "cell_type": "code",
   "execution_count": 27,
   "id": "9208cff9-3f2e-4131-ad54-999546855d9d",
   "metadata": {},
   "outputs": [],
   "source": [
    "def getWeather(lat,lon):\n",
    "    \n",
    "    url = f'http://api.openweathermap.org/data/2.5/weather?lat={lat}&lon={lon}&appid={key}&units=metric'\n",
    "    response = requests.get(url)\n",
    "    data = response.json()\n",
    "\n",
    "    if response.status_code == 200:\n",
    "        main = data['main']\n",
    "        weather_ = data['weather'][0]['description']\n",
    "        temp = main['temp']\n",
    "        humidity = main['humidity']\n",
    "        wind_speed = data['wind']['speed']\n",
    "\n",
    "        result_label.config(text = f\"City: {data['name']}\\nTemperature: {temp}°C\\nWeather:{weather_}\\nHumidity: {humidity}%\\nWind Speed: {wind_speed} m/s\")\n",
    "    else:\n",
    "        messagebox.showerror(\"Error\", \"Error fetching weather data\")"
   ]
  },
  {
   "cell_type": "code",
   "execution_count": 29,
   "id": "acfb697b-3d51-4802-8d04-51b82d8965cd",
   "metadata": {},
   "outputs": [],
   "source": [
    "def showWeather():\n",
    "    city = textfield.get()\n",
    "    if city:\n",
    "        coordinates = get_coordinates(city)\n",
    "        if coordinates:\n",
    "            lat,lon = coordinates\n",
    "            getWeather(lat,lon)\n",
    "        else:\n",
    "            messagebox.showwarning(\"Error\", \"Please enter a city name.\")"
   ]
  },
  {
   "cell_type": "code",
   "execution_count": 39,
   "id": "ac2a2743-204b-4a17-87d3-ef6aedca32c8",
   "metadata": {},
   "outputs": [],
   "source": [
    "windows = tk.Tk()\n",
    "windows.geometry(\"600x500\")\n",
    "windows.title(\"Weather App\")\n",
    "\n",
    "city_label = tk.Label(windows, text=\"Enter city name:\", font=(\"Helvetica\", 12))\n",
    "city_label.pack(pady=10)\n",
    "\n",
    "textfield = tk.Entry(windows, font=(\"Helvetica\", 12))\n",
    "textfield.pack(pady = 20)\n",
    "textfield.focus()\n",
    "\n",
    "\n",
    "get_weather_button = tk.Button(windows, text=\"Get Weather\", command=showWeather, font=(\"Helvetica\", 12))\n",
    "get_weather_button.pack(pady=10)\n",
    "\n",
    "result_label = tk.Label(windows, text=\"\", font=(\"Helvetica\", 10), justify=\"left\")\n",
    "result_label.pack(pady=20)\n",
    "\n",
    "windows.mainloop()\n",
    "\n",
    "\n"
   ]
  },
  {
   "cell_type": "code",
   "execution_count": null,
   "id": "28150849-dff7-4f94-a43a-dcd94b13c390",
   "metadata": {},
   "outputs": [],
   "source": []
  }
 ],
 "metadata": {
  "kernelspec": {
   "display_name": "Python 3 (ipykernel)",
   "language": "python",
   "name": "python3"
  },
  "language_info": {
   "codemirror_mode": {
    "name": "ipython",
    "version": 3
   },
   "file_extension": ".py",
   "mimetype": "text/x-python",
   "name": "python",
   "nbconvert_exporter": "python",
   "pygments_lexer": "ipython3",
   "version": "3.12.4"
  }
 },
 "nbformat": 4,
 "nbformat_minor": 5
}
